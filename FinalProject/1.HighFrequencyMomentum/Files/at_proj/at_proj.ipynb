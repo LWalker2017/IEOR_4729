{
 "cells": [
  {
   "cell_type": "code",
   "execution_count": 1,
   "metadata": {},
   "outputs": [],
   "source": [
    "from getcrypto import get_historical, get_panel\n",
    "import pandas as pd\n",
    "import matplotlib.pyplot as plt"
   ]
  },
  {
   "cell_type": "code",
   "execution_count": 2,
   "metadata": {},
   "outputs": [],
   "source": [
    "# watch list: top seven cryptocurrencies (ranked by market capitalization) as of October 2019\n",
    "# Bitcoin, Ethereum, Ripple, Bitcoin Cash, Tether, Litecoin, EOS\n",
    "symbols   = [\"BTC\", \"ETH\", \"XRP\", \"BCH\", \"USDT\", \"LTC\", \"EOS\"]\n",
    "\n",
    "# convert from: unixtimestamp.com\n",
    "# get 1 year data\n",
    "from_date = 1555891200 # 04/22/2019 @ 12:00am (UTC)\n",
    "to_date   = 1587564000 # 04/22/2020 @ 2:00pm (UTC)"
   ]
  },
  {
   "cell_type": "code",
   "execution_count": 4,
   "metadata": {},
   "outputs": [],
   "source": [
    "# convert from: unixtimestamp.com\n",
    "# get 2 years data\n",
    "from_date = 1524355200 # 04/22/2018 @ 12:00am (UTC)\n",
    "to_date   = 1587564000 # 04/22/2020 @ 2:00pm (UTC)"
   ]
  },
  {
   "cell_type": "code",
   "execution_count": 3,
   "metadata": {},
   "outputs": [],
   "source": [
    "df = get_panel(symbols, from_date, to_date, idx=False)"
   ]
  },
  {
   "cell_type": "code",
   "execution_count": null,
   "metadata": {},
   "outputs": [],
   "source": [
    "df"
   ]
  },
  {
   "cell_type": "code",
   "execution_count": 4,
   "metadata": {},
   "outputs": [],
   "source": [
    "df.to_csv('data/crypto_1y.csv')"
   ]
  }
 ],
 "metadata": {
  "kernelspec": {
   "display_name": "Python 3",
   "language": "python",
   "name": "python3"
  },
  "language_info": {
   "codemirror_mode": {
    "name": "ipython",
    "version": 3
   },
   "file_extension": ".py",
   "mimetype": "text/x-python",
   "name": "python",
   "nbconvert_exporter": "python",
   "pygments_lexer": "ipython3",
   "version": "3.7.3"
  }
 },
 "nbformat": 4,
 "nbformat_minor": 4
}
