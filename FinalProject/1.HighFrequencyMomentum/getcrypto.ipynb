{
 "cells": [
  {
   "cell_type": "code",
   "execution_count": 1,
   "metadata": {},
   "outputs": [],
   "source": [
    "from getcrypto import get_historical, get_panel\n",
    "import pandas as pd\n",
    "import matplotlib.pyplot as plt"
   ]
  },
  {
   "cell_type": "code",
   "execution_count": 2,
   "metadata": {},
   "outputs": [],
   "source": [
    "# watch list: top seven cryptocurrencies (ranked by market capitalization) as of October 2019\n",
    "# Bitcoin, Ethereum, Ripple, Bitcoin Cash, Tether, Litecoin, EOS\n",
    "symbols   = [\"BTC\", \"ETH\", \"XRP\", \"BCH\", \"USDT\", \"LTC\", \"EOS\"]\n",
    "\n",
    "# convert from: unixtimestamp.com\n",
    "# get 1 year data\n",
    "from_date = 1555891200 # 04/22/2019 @ 12:00am (UTC)\n",
    "to_date   = 1587564000 # 04/22/2020 @ 2:00pm (UTC)"
   ]
  },
  {
   "cell_type": "code",
   "execution_count": 4,
   "metadata": {},
   "outputs": [],
   "source": [
    "# convert from: unixtimestamp.com\n",
    "# get 2 years data\n",
    "from_date = 1524355200 # 04/22/2018 @ 12:00am (UTC)\n",
    "to_date   = 1587564000 # 04/22/2020 @ 2:00pm (UTC)"
   ]
  },
  {
   "cell_type": "markdown",
   "metadata": {},
   "source": [
    "# updated get_unix_time function"
   ]
  },
  {
   "cell_type": "code",
   "execution_count": 3,
   "metadata": {},
   "outputs": [],
   "source": [
    "to_date   = \"2020-04-30 14:00\"\n",
    "\n",
    "# get 6 months\n",
    "from_date = \"2019-10-30 00:00\""
   ]
  },
  {
   "cell_type": "code",
   "execution_count": 6,
   "metadata": {},
   "outputs": [],
   "source": [
    "# get 1 year\n",
    "from_date = \"2019-04-30 00:00\""
   ]
  },
  {
   "cell_type": "code",
   "execution_count": 9,
   "metadata": {},
   "outputs": [],
   "source": [
    "# get 2 years\n",
    "from_date = \"2018-04-30 00:00\""
   ]
  },
  {
   "cell_type": "code",
   "execution_count": 10,
   "metadata": {},
   "outputs": [],
   "source": [
    "df = get_panel(symbols, from_date, to_date, idx=False)"
   ]
  },
  {
   "cell_type": "code",
   "execution_count": 5,
   "metadata": {},
   "outputs": [],
   "source": [
    "df.to_csv('data/crypto_6m.csv')"
   ]
  },
  {
   "cell_type": "code",
   "execution_count": 8,
   "metadata": {},
   "outputs": [],
   "source": [
    "df.to_csv('data/crypto_1y.csv')"
   ]
  },
  {
   "cell_type": "code",
   "execution_count": 11,
   "metadata": {},
   "outputs": [],
   "source": [
    "df.to_csv('data/crypto_2y.csv')"
   ]
  },
  {
   "cell_type": "code",
   "execution_count": 12,
   "metadata": {},
   "outputs": [
    {
     "name": "stdout",
     "output_type": "stream",
     "text": [
      "1555891200.0\n"
     ]
    }
   ],
   "source": [
    "from datetime import datetime, timezone\n",
    "t = \"2019-4-22 0:00\"\n",
    "dt = datetime.strptime(t,\"%Y-%m-%d %H:%M\")\n",
    "timestamp = dt.replace(tzinfo=timezone.utc).timestamp()\n",
    "print(timestamp)"
   ]
  },
  {
   "cell_type": "code",
   "execution_count": 6,
   "metadata": {},
   "outputs": [
    {
     "data": {
      "text/plain": [
       "1572393600.0"
      ]
     },
     "execution_count": 6,
     "metadata": {},
     "output_type": "execute_result"
    }
   ],
   "source": [
    "import getcrypto\n",
    "getcrypto.unix(from_date)"
   ]
  },
  {
   "cell_type": "code",
   "execution_count": null,
   "metadata": {},
   "outputs": [],
   "source": []
  }
 ],
 "metadata": {
  "kernelspec": {
   "display_name": "Python 3",
   "language": "python",
   "name": "python3"
  },
  "language_info": {
   "codemirror_mode": {
    "name": "ipython",
    "version": 3
   },
   "file_extension": ".py",
   "mimetype": "text/x-python",
   "name": "python",
   "nbconvert_exporter": "python",
   "pygments_lexer": "ipython3",
   "version": "3.7.3"
  }
 },
 "nbformat": 4,
 "nbformat_minor": 4
}
