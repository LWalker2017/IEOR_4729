{
 "cells": [
  {
   "cell_type": "markdown",
   "metadata": {},
   "source": [
    "# WRDS Tick Data Redux\n",
    "\n",
    "1. Reload the tick data to get some extra fields (see the new version of simtools.py in Courseworks)\n",
    "\n",
    "1. Change our logic slightly when we read the quote data\n",
    "\n",
    "```\n",
    "# skip if not NBBO\n",
    "if not ( ( row.qu_source == 'N' ) and ( row.natbbo_ind == 4 ) ):\n",
    "    continue\n",
    "# set our local NBBO variables\n",
    "if ( row.bid_px > 0 and row.bid_size > 0 ):\n",
    "    bid_price = row.bid_px\n",
    "    bid_size = row.bid_size * round_lot\n",
    "if ( row.ask_px > 0 and row.ask_size > 0 ):\n",
    "    ask_price = row.ask_px\n",
    "    ask_size = row.ask_size * round_lot\n",
    "```\n",
    "\n",
    "3. We’ll build the order book later, but for now let’s throw this away."
   ]
  },
  {
   "cell_type": "code",
   "execution_count": null,
   "metadata": {},
   "outputs": [],
   "source": []
  }
 ],
 "metadata": {
  "kernelspec": {
   "display_name": "Python 3",
   "language": "python",
   "name": "python3"
  },
  "language_info": {
   "codemirror_mode": {
    "name": "ipython",
    "version": 3
   },
   "file_extension": ".py",
   "mimetype": "text/x-python",
   "name": "python",
   "nbconvert_exporter": "python",
   "pygments_lexer": "ipython3",
   "version": "3.7.4"
  }
 },
 "nbformat": 4,
 "nbformat_minor": 4
}
