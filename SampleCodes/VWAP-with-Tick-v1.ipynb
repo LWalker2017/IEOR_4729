{
 "cells": [
  {
   "cell_type": "markdown",
   "metadata": {},
   "source": [
    "# VWAP with Tick Data v1"
   ]
  },
  {
   "cell_type": "markdown",
   "metadata": {},
   "source": [
    "## Parameters\n",
    "Parameters: &lt;side&gt; &lt;quantity&gt; [limit_px]  \n",
    "side = \"b\" (buy) or \"s\" (sell)  \n",
    "quantity = # of shares  \n",
    "limit_px = limit price (optional)  "
   ]
  },
  {
   "cell_type": "code",
   "execution_count": null,
   "metadata": {},
   "outputs": [],
   "source": [
    "%matplotlib inline\n",
    "\n",
    "import time\n",
    "import datetime\n",
    "import matplotlib\n",
    "import matplotlib.pyplot as plt\n",
    "import numpy as np\n",
    "import pandas as pd\n",
    "\n",
    "matplotlib.rcParams[ 'figure.figsize' ] = ( 14, 6 )\n",
    "\n",
    "def show_time( label_string ):\n",
    "    ts = time.time()\n",
    "    st = datetime.datetime.fromtimestamp( ts ).strftime( '%Y-%m-%d %H:%M:%S:%f' )\n",
    "    print( label_string + ' : ' + st )"
   ]
  },
  {
   "cell_type": "code",
   "execution_count": null,
   "metadata": {},
   "outputs": [],
   "source": [
    "vwap_coefs = [7.81292630e-03, -6.23749840e-05, 3.13654288e-07, -7.63471095e-10, 7.19639892e-13]\n",
    "\n",
    "# use coefs to make our target series\n",
    "def vwap_target( bar_num, coefs ):\n",
    "    return ( coefs[ 0 ] * bar_num + \n",
    "             coefs[ 1 ] * bar_num**2 + \n",
    "             coefs[ 2 ] * bar_num**3 +\n",
    "             coefs[ 3 ] * bar_num**4 +\n",
    "             coefs[ 4 ] * bar_num**5 )"
   ]
  },
  {
   "cell_type": "markdown",
   "metadata": {},
   "source": [
    "### Initialization"
   ]
  },
  {
   "cell_type": "code",
   "execution_count": null,
   "metadata": {},
   "outputs": [],
   "source": [
    "# get our market data\n",
    "# parsing of our pre-saved data is much simpler. We could also include \n",
    "taq = pd.read_csv( '../data/AAPL_20180117.gz', index_col = 0, parse_dates = True )\n",
    "\n",
    "# set order parameters\n",
    "order_side = \"s\"\n",
    "order_quantity = 250000\n",
    "# EFTR\n",
    "# order_limit_price = 10.00"
   ]
  },
  {
   "cell_type": "code",
   "execution_count": null,
   "metadata": {},
   "outputs": [],
   "source": [
    "# generate target schedule - use bins 1 - 390 giving an automatic 1 minute \"look ahead\"\n",
    "# note that targets have been converted to shares from percent\n",
    "order_targets = vwap_target( np.arange( 0, 391, dtype='int64' ), np.array(vwap_coefs) ) * order_quantity"
   ]
  },
  {
   "cell_type": "code",
   "execution_count": null,
   "metadata": {},
   "outputs": [],
   "source": [
    "type(np.array(vwap_coefs))"
   ]
  },
  {
   "cell_type": "code",
   "execution_count": null,
   "metadata": {},
   "outputs": [],
   "source": [
    "type(np.arange( 0, 391 ))"
   ]
  },
  {
   "cell_type": "code",
   "execution_count": null,
   "metadata": {},
   "outputs": [],
   "source": [
    "_ = plt.plot(order_targets)"
   ]
  },
  {
   "cell_type": "code",
   "execution_count": null,
   "metadata": {},
   "outputs": [],
   "source": [
    "# check our data\n",
    "taq.head()"
   ]
  },
  {
   "cell_type": "code",
   "execution_count": null,
   "metadata": {},
   "outputs": [],
   "source": [
    "# cut our data to market hours\n",
    "trading_day = taq['2018-01-17 09:30:00':'2018-01-17 16:00:00']"
   ]
  },
  {
   "cell_type": "code",
   "execution_count": null,
   "metadata": {},
   "outputs": [],
   "source": [
    "trading_day.head()"
   ]
  },
  {
   "cell_type": "code",
   "execution_count": null,
   "metadata": {},
   "outputs": [],
   "source": [
    "len(trading_day)"
   ]
  },
  {
   "cell_type": "code",
   "execution_count": null,
   "metadata": {},
   "outputs": [],
   "source": [
    "# let's set up a container to hold trades. preinitialize with the index\n",
    "trades = pd.DataFrame( columns = [ 'price' , 'shares', 'bar', 'type' ], index=trading_day.index )"
   ]
  },
  {
   "cell_type": "markdown",
   "metadata": {},
   "source": [
    "### Event Loop"
   ]
  },
  {
   "cell_type": "code",
   "execution_count": null,
   "metadata": {},
   "outputs": [],
   "source": [
    "# main event loop\n",
    "current_bar = 1\n",
    "current_target = 0\n",
    "quantity_filled = 0\n",
    "quantity_remaining = order_quantity - quantity_filled\n",
    "threshold_value = 5000\n",
    "bid_price = 0.0\n",
    "bid_quantity = 0.0\n",
    "offer_price = 0.0\n",
    "offer_quantity = 0.0\n",
    "last_price = 0.0\n",
    "last_quantity = 0.0\n",
    "total_volume = 0.0\n",
    "vwap_numerator = 0.0\n",
    "new_trade_price = 0.0\n",
    "new_trade_quantity = 0\n",
    "\n",
    "show_time( 'start loop' )\n",
    "for index, row in trading_day.iterrows():\n",
    "    # figure out which minute we are in after the open\n",
    "    time_from_open = ( index - pd.Timedelta( hours = 9, minutes = 30 ) )\n",
    "    minutes_from_open = ( time_from_open.hour * 60 ) + time_from_open.minute\n",
    "        \n",
    "    # determine message type\n",
    "    if ( pd.isnull( row[ 'Trade Price' ] ) ): # it's a quote\n",
    "        # collect BBO\n",
    "        bid_price = row[ 'Bid_Price' ]\n",
    "        offer_price = row[ 'Offer_Price' ]\n",
    "        \n",
    "        # get price and adjust for lot size\n",
    "        bid_quantity = row[ 'Bid_Size' ] * 100 \n",
    "        offer_quantity = row[ 'Offer_Size' ] * 100\n",
    "    \n",
    "    else: # it's a trade\n",
    "        last_price = row[ 'Trade Price' ]\n",
    "        last_quantity = row[ 'Trade Volume' ]\n",
    "        \n",
    "        # collect volume\n",
    "        total_volume += last_quantity\n",
    "        \n",
    "        # collect rolling VWAP\n",
    "        vwap_numerator += last_quantity * last_price\n",
    "\n",
    "    # are we in a new minute?\n",
    "    if ( minutes_from_open > current_bar ):\n",
    "        # we're in a new bar do new bar things here\n",
    "        current_bar = minutes_from_open\n",
    "        current_target = min( np.ceil( order_targets[ current_bar ] ), order_quantity )\n",
    "        #print ( str(current_bar) + ': ' + str( current_target ) )\n",
    "        \n",
    "    # trade logic\n",
    "    # v1: are we behind the target at all? If so, do a trade, just pay the spread\n",
    "    quantity_behind = current_target - quantity_filled\n",
    "    if ( quantity_behind > threshold_value ): # we need to trade \n",
    "        # assume you can execute the full size across spread\n",
    "        new_trade_quantity = quantity_behind\n",
    "        if ( order_side == 'b' ):\n",
    "            new_trade_price = offer_price\n",
    "        else: \n",
    "            new_trade_price = bid_price     \n",
    "        trades.loc[ index ] = [ new_trade_price, new_trade_quantity, current_bar, \"aggressive\" ]\n",
    "        #print(\"cross spread: {} {} shares @ {} in bar {}\".format(order_side, new_trade_quantity, new_trade_price, current_bar))\n",
    "    else: #we're not very behind, assume we can trade at the bid / offer\n",
    "        new_trade_quantity = quantity_behind\n",
    "        if ( order_side == 'b' ):\n",
    "            new_trade_price = bid_price\n",
    "        else: \n",
    "            new_trade_price = offer_price\n",
    "        trades.loc[ index ] = [ new_trade_price, new_trade_quantity, current_bar, \"passive\" ]\n",
    "        #print(\"passive trade: {} {} shares @ {} in bar {}\".format(order_side, new_trade_quantity, new_trade_price, current_bar))\n",
    "        # update quantity remaining\n",
    "        quantity_remaining = min( 0, quantity_remaining - new_trade_quantity )\n",
    "        quantity_filled += new_trade_quantity    \n",
    "        \n",
    "# looping done\n",
    "show_time( 'end loop' )"
   ]
  },
  {
   "cell_type": "code",
   "execution_count": null,
   "metadata": {},
   "outputs": [],
   "source": [
    "# incidentally... trying to record into dataframe using this code... gave up after 40 minutes...\n",
    "# new_row = pd.DataFrame( [[ new_trade_price, new_trade_quantity, order_side ]], \n",
    "#                              columns = [ 'fill_price' , 'fill_quantity', 'fill_side' ],\n",
    "#                              index = [ index ] )\n",
    "# trades = pd.concat( [ trades, pd.DataFrame( new_row ) ], ignore_index = False )"
   ]
  },
  {
   "cell_type": "code",
   "execution_count": null,
   "metadata": {},
   "outputs": [],
   "source": [
    "# Now, let's look at some stats\n",
    "trades = trades.dropna()\n",
    "day_vwap = vwap_numerator / total_volume\n",
    "print( 'stock volume: ' + str( total_volume ) )\n",
    "print( 'order shares traded: ' + str( quantity_filled ) )\n",
    "avg_price = (trades[ 'price' ] * trades[ 'shares' ]).sum() / trades[ 'shares' ].sum()\n",
    "print( 'average price: ' + str( avg_price ) )\n",
    "print( 'day vwap: ' + str( day_vwap ) )\n",
    "print( 'average trade size: ' + str( trades[ 'shares' ].mean() ) )"
   ]
  },
  {
   "cell_type": "code",
   "execution_count": null,
   "metadata": {},
   "outputs": [],
   "source": [
    "trades[ 'accum_shares' ] = trades[ 'shares' ].cumsum()"
   ]
  },
  {
   "cell_type": "code",
   "execution_count": null,
   "metadata": {},
   "outputs": [],
   "source": [
    "plt.plot(trades['accum_shares'])"
   ]
  },
  {
   "cell_type": "code",
   "execution_count": null,
   "metadata": {},
   "outputs": [],
   "source": [
    "plt.plot(trades['price'])\n",
    "plt.title('realized trade prices')"
   ]
  },
  {
   "cell_type": "code",
   "execution_count": null,
   "metadata": {},
   "outputs": [],
   "source": [
    "# zero price trades?\n",
    "trades[trades['price'] == 0]"
   ]
  },
  {
   "cell_type": "code",
   "execution_count": null,
   "metadata": {},
   "outputs": [],
   "source": [
    "trading_day['2018-01-17 09:30:00']"
   ]
  },
  {
   "cell_type": "code",
   "execution_count": null,
   "metadata": {},
   "outputs": [],
   "source": [
    "all_trades = trading_day[[ 'Trade Volume', 'Trade Price' ]].copy()\n",
    "all_trades = all_trades.dropna()"
   ]
  },
  {
   "cell_type": "code",
   "execution_count": null,
   "metadata": {},
   "outputs": [],
   "source": [
    "plt.plot( all_trades['Trade Price'] )"
   ]
  },
  {
   "cell_type": "code",
   "execution_count": null,
   "metadata": {},
   "outputs": [],
   "source": [
    "# for now, let's ignore the extreme values and plot these together\n",
    "\n",
    "day_plot = plt.plot( all_trades[ 'Trade Price' ], label = 'stock chart' )\n",
    "trade_plot = plt.plot( trades[ 'price' ], label = 'Our Trade' )\n",
    "plt.title( 'Our trades vs. the day' )\n",
    "plt.ylim( 174, 180 )\n",
    "plt.legend()"
   ]
  },
  {
   "cell_type": "code",
   "execution_count": null,
   "metadata": {},
   "outputs": [],
   "source": []
  }
 ],
 "metadata": {
  "kernelspec": {
   "display_name": "Python 3",
   "language": "python",
   "name": "python3"
  },
  "language_info": {
   "codemirror_mode": {
    "name": "ipython",
    "version": 3
   },
   "file_extension": ".py",
   "mimetype": "text/x-python",
   "name": "python",
   "nbconvert_exporter": "python",
   "pygments_lexer": "ipython3",
   "version": "3.7.4"
  },
  "toc": {
   "base_numbering": 1,
   "nav_menu": {},
   "number_sections": true,
   "sideBar": true,
   "skip_h1_title": false,
   "title_cell": "Table of Contents",
   "title_sidebar": "Contents",
   "toc_cell": false,
   "toc_position": {},
   "toc_section_display": true,
   "toc_window_display": false
  }
 },
 "nbformat": 4,
 "nbformat_minor": 4
}
