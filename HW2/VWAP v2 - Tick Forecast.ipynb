{
 "cells": [
  {
   "cell_type": "markdown",
   "metadata": {},
   "source": [
    "# VWAP - Tick Forecast\n",
    "_Version 2.0_"
   ]
  },
  {
   "cell_type": "code",
   "execution_count": 1,
   "metadata": {},
   "outputs": [],
   "source": [
    "%matplotlib inline\n",
    "%load_ext autoreload\n",
    "%autoreload 2\n",
    "\n",
    "import matplotlib\n",
    "import matplotlib.pyplot as plt\n",
    "import numpy as np\n",
    "import pandas as pd\n",
    "\n",
    "# load our helper functios\n",
    "import simtools as st\n",
    "import vwap2 as vw\n",
    "\n",
    "matplotlib.rcParams[ 'figure.figsize' ] = ( 16, 9 )"
   ]
  },
  {
   "cell_type": "markdown",
   "metadata": {},
   "source": [
    "### Load TAQ Data\n",
    "\n",
    "We'll assume we have already done some cleaning by using our Tick Data Setup or similar code"
   ]
  },
  {
   "cell_type": "code",
   "execution_count": 2,
   "metadata": {},
   "outputs": [],
   "source": [
    "# set up some variables\n",
    "tickfile = '../data/TSLA-TAQ-aug19v2.zip'\n",
    "test_day = '2019-08-30'\n",
    "taq = pd.read_pickle(tickfile)"
   ]
  },
  {
   "cell_type": "code",
   "execution_count": 3,
   "metadata": {},
   "outputs": [
    {
     "data": {
      "text/html": [
       "<div>\n",
       "<style scoped>\n",
       "    .dataframe tbody tr th:only-of-type {\n",
       "        vertical-align: middle;\n",
       "    }\n",
       "\n",
       "    .dataframe tbody tr th {\n",
       "        vertical-align: top;\n",
       "    }\n",
       "\n",
       "    .dataframe thead th {\n",
       "        text-align: right;\n",
       "    }\n",
       "</style>\n",
       "<table border=\"1\" class=\"dataframe\">\n",
       "  <thead>\n",
       "    <tr style=\"text-align: right;\">\n",
       "      <th></th>\n",
       "      <th>exch</th>\n",
       "      <th>bid_px</th>\n",
       "      <th>bid_size</th>\n",
       "      <th>ask_px</th>\n",
       "      <th>ask_size</th>\n",
       "      <th>qu_cond</th>\n",
       "      <th>qu_seqnum</th>\n",
       "      <th>natbbo_ind</th>\n",
       "      <th>qu_cancel</th>\n",
       "      <th>qu_source</th>\n",
       "      <th>symbol</th>\n",
       "      <th>suffix_x</th>\n",
       "      <th>suffix_y</th>\n",
       "      <th>trade_size</th>\n",
       "      <th>trade_px</th>\n",
       "    </tr>\n",
       "  </thead>\n",
       "  <tbody>\n",
       "    <tr>\n",
       "      <td>2019-08-30 09:30:00.000435733</td>\n",
       "      <td>K</td>\n",
       "      <td>229.0</td>\n",
       "      <td>11.0</td>\n",
       "      <td>230.00</td>\n",
       "      <td>12.0</td>\n",
       "      <td>R</td>\n",
       "      <td>690866.0</td>\n",
       "      <td>0.0</td>\n",
       "      <td>NaN</td>\n",
       "      <td>N</td>\n",
       "      <td>TSLA</td>\n",
       "      <td>NaN</td>\n",
       "      <td>NaN</td>\n",
       "      <td>NaN</td>\n",
       "      <td>NaN</td>\n",
       "    </tr>\n",
       "    <tr>\n",
       "      <td>2019-08-30 09:30:00.000507173</td>\n",
       "      <td>Z</td>\n",
       "      <td>229.4</td>\n",
       "      <td>1.0</td>\n",
       "      <td>230.50</td>\n",
       "      <td>4.0</td>\n",
       "      <td>R</td>\n",
       "      <td>690872.0</td>\n",
       "      <td>0.0</td>\n",
       "      <td>NaN</td>\n",
       "      <td>N</td>\n",
       "      <td>TSLA</td>\n",
       "      <td>NaN</td>\n",
       "      <td>NaN</td>\n",
       "      <td>NaN</td>\n",
       "      <td>NaN</td>\n",
       "    </tr>\n",
       "    <tr>\n",
       "      <td>2019-08-30 09:30:00.001223950</td>\n",
       "      <td>Q</td>\n",
       "      <td>229.0</td>\n",
       "      <td>19.0</td>\n",
       "      <td>229.79</td>\n",
       "      <td>3.0</td>\n",
       "      <td>R</td>\n",
       "      <td>690898.0</td>\n",
       "      <td>0.0</td>\n",
       "      <td>NaN</td>\n",
       "      <td>N</td>\n",
       "      <td>TSLA</td>\n",
       "      <td>NaN</td>\n",
       "      <td>NaN</td>\n",
       "      <td>NaN</td>\n",
       "      <td>NaN</td>\n",
       "    </tr>\n",
       "    <tr>\n",
       "      <td>2019-08-30 09:30:00.139723704</td>\n",
       "      <td>Z</td>\n",
       "      <td>229.4</td>\n",
       "      <td>1.0</td>\n",
       "      <td>230.50</td>\n",
       "      <td>4.0</td>\n",
       "      <td>R</td>\n",
       "      <td>694075.0</td>\n",
       "      <td>0.0</td>\n",
       "      <td>NaN</td>\n",
       "      <td>N</td>\n",
       "      <td>TSLA</td>\n",
       "      <td>NaN</td>\n",
       "      <td>NaN</td>\n",
       "      <td>NaN</td>\n",
       "      <td>NaN</td>\n",
       "    </tr>\n",
       "    <tr>\n",
       "      <td>2019-08-30 09:30:00.139732326</td>\n",
       "      <td>Z</td>\n",
       "      <td>229.4</td>\n",
       "      <td>1.0</td>\n",
       "      <td>230.50</td>\n",
       "      <td>4.0</td>\n",
       "      <td>R</td>\n",
       "      <td>694076.0</td>\n",
       "      <td>0.0</td>\n",
       "      <td>NaN</td>\n",
       "      <td>N</td>\n",
       "      <td>TSLA</td>\n",
       "      <td>NaN</td>\n",
       "      <td>NaN</td>\n",
       "      <td>NaN</td>\n",
       "      <td>NaN</td>\n",
       "    </tr>\n",
       "  </tbody>\n",
       "</table>\n",
       "</div>"
      ],
      "text/plain": [
       "                              exch  bid_px  bid_size  ask_px  ask_size  \\\n",
       "2019-08-30 09:30:00.000435733    K   229.0      11.0  230.00      12.0   \n",
       "2019-08-30 09:30:00.000507173    Z   229.4       1.0  230.50       4.0   \n",
       "2019-08-30 09:30:00.001223950    Q   229.0      19.0  229.79       3.0   \n",
       "2019-08-30 09:30:00.139723704    Z   229.4       1.0  230.50       4.0   \n",
       "2019-08-30 09:30:00.139732326    Z   229.4       1.0  230.50       4.0   \n",
       "\n",
       "                              qu_cond  qu_seqnum  natbbo_ind  qu_cancel  \\\n",
       "2019-08-30 09:30:00.000435733       R   690866.0         0.0        NaN   \n",
       "2019-08-30 09:30:00.000507173       R   690872.0         0.0        NaN   \n",
       "2019-08-30 09:30:00.001223950       R   690898.0         0.0        NaN   \n",
       "2019-08-30 09:30:00.139723704       R   694075.0         0.0        NaN   \n",
       "2019-08-30 09:30:00.139732326       R   694076.0         0.0        NaN   \n",
       "\n",
       "                              qu_source symbol  suffix_x  suffix_y  \\\n",
       "2019-08-30 09:30:00.000435733         N   TSLA       NaN       NaN   \n",
       "2019-08-30 09:30:00.000507173         N   TSLA       NaN       NaN   \n",
       "2019-08-30 09:30:00.001223950         N   TSLA       NaN       NaN   \n",
       "2019-08-30 09:30:00.139723704         N   TSLA       NaN       NaN   \n",
       "2019-08-30 09:30:00.139732326         N   TSLA       NaN       NaN   \n",
       "\n",
       "                               trade_size  trade_px  \n",
       "2019-08-30 09:30:00.000435733         NaN       NaN  \n",
       "2019-08-30 09:30:00.000507173         NaN       NaN  \n",
       "2019-08-30 09:30:00.001223950         NaN       NaN  \n",
       "2019-08-30 09:30:00.139723704         NaN       NaN  \n",
       "2019-08-30 09:30:00.139732326         NaN       NaN  "
      ]
     },
     "execution_count": 3,
     "metadata": {},
     "output_type": "execute_result"
    }
   ],
   "source": [
    "# filter on date\n",
    "day = taq[test_day]\n",
    "day.head()"
   ]
  },
  {
   "cell_type": "markdown",
   "metadata": {},
   "source": [
    "## VWAP Target Function"
   ]
  },
  {
   "cell_type": "code",
   "execution_count": 4,
   "metadata": {},
   "outputs": [],
   "source": [
    "vwap_coefs = [ 6.82705253e-03, -4.98952946e-05,  2.47593111e-07, -6.04833777e-10, 5.78006232e-13]"
   ]
  },
  {
   "cell_type": "markdown",
   "metadata": {},
   "source": [
    "## Run the Algo with Tick Factor"
   ]
  },
  {
   "cell_type": "code",
   "execution_count": 5,
   "metadata": {},
   "outputs": [
    {
     "name": "stdout",
     "output_type": "stream",
     "text": [
      "2020-03-25 18:53:37:017781: Beginning VWAP run: s 300000 shares\n",
      "Average stock spread for sample: 1.3625\n",
      "2020-03-25 18:53:37:208915: starting main loop\n",
      "2020-03-25 18:59:11:695347: end simulation loop\n",
      "2020-03-25 18:59:11:696347: order analytics\n",
      "2020-03-25 18:59:11:806425: VWAP run complete.\n"
     ]
    }
   ],
   "source": [
    "# without the tick signal...\n",
    "order_quantity = 300000\n",
    "order_side = 's'\n",
    "results = vw.algo_loop(day, order_side, order_quantity, vwap_coefs)"
   ]
  },
  {
   "cell_type": "code",
   "execution_count": 6,
   "metadata": {},
   "outputs": [
    {
     "data": {
      "text/plain": [
       "<matplotlib.axes._subplots.AxesSubplot at 0x6e4b957f48>"
      ]
     },
     "execution_count": 6,
     "metadata": {},
     "output_type": "execute_result"
    },
    {
     "data": {
      "image/png": "[encoded data removed]",
      "text/plain": [
       "<Figure size 432x288 with 1 Axes>"
      ]
     },
     "metadata": {
      "needs_background": "light"
     },
     "output_type": "display_data"
    }
   ],
   "source": [
    "results['fair_values'].plot()"
   ]
  },
  {
   "cell_type": "code",
   "execution_count": 7,
   "metadata": {},
   "outputs": [
    {
     "data": {
      "text/plain": [
       "<matplotlib.axes._subplots.AxesSubplot at 0x6e3add2688>"
      ]
     },
     "execution_count": 7,
     "metadata": {},
     "output_type": "execute_result"
    },
    {
     "data": {
      "image/png": "[encoded data removed]",
      "text/plain": [
       "<Figure size 432x288 with 1 Axes>"
      ]
     },
     "metadata": {
      "needs_background": "light"
     },
     "output_type": "display_data"
    }
   ],
   "source": [
    "results['midpoints'].plot()\n",
    "day.trade_px.plot()"
   ]
  },
  {
   "cell_type": "code",
   "execution_count": 8,
   "metadata": {},
   "outputs": [],
   "source": [
    "data = results['trades']"
   ]
  },
  {
   "cell_type": "code",
   "execution_count": 9,
   "metadata": {},
   "outputs": [
    {
     "data": {
      "text/html": [
       "<div>\n",
       "<style scoped>\n",
       "    .dataframe tbody tr th:only-of-type {\n",
       "        vertical-align: middle;\n",
       "    }\n",
       "\n",
       "    .dataframe tbody tr th {\n",
       "        vertical-align: top;\n",
       "    }\n",
       "\n",
       "    .dataframe thead th {\n",
       "        text-align: right;\n",
       "    }\n",
       "</style>\n",
       "<table border=\"1\" class=\"dataframe\">\n",
       "  <thead>\n",
       "    <tr style=\"text-align: right;\">\n",
       "      <th></th>\n",
       "      <th>price</th>\n",
       "      <th>shares</th>\n",
       "      <th>bar</th>\n",
       "      <th>trade_type</th>\n",
       "    </tr>\n",
       "  </thead>\n",
       "  <tbody>\n",
       "    <tr>\n",
       "      <td>2019-08-30 09:31:08.619711131</td>\n",
       "      <td>228.7</td>\n",
       "      <td>55</td>\n",
       "      <td>1</td>\n",
       "      <td>p</td>\n",
       "    </tr>\n",
       "    <tr>\n",
       "      <td>2019-08-30 09:31:08.876675496</td>\n",
       "      <td>228.75</td>\n",
       "      <td>127</td>\n",
       "      <td>1</td>\n",
       "      <td>p</td>\n",
       "    </tr>\n",
       "    <tr>\n",
       "      <td>2019-08-30 09:31:08.876829499</td>\n",
       "      <td>228.75</td>\n",
       "      <td>150</td>\n",
       "      <td>1</td>\n",
       "      <td>p</td>\n",
       "    </tr>\n",
       "    <tr>\n",
       "      <td>2019-08-30 09:31:08.877184902</td>\n",
       "      <td>228.75</td>\n",
       "      <td>20</td>\n",
       "      <td>1</td>\n",
       "      <td>p</td>\n",
       "    </tr>\n",
       "    <tr>\n",
       "      <td>2019-08-30 09:31:08.877191188</td>\n",
       "      <td>228.75</td>\n",
       "      <td>20</td>\n",
       "      <td>1</td>\n",
       "      <td>p</td>\n",
       "    </tr>\n",
       "    <tr>\n",
       "      <td>...</td>\n",
       "      <td>...</td>\n",
       "      <td>...</td>\n",
       "      <td>...</td>\n",
       "      <td>...</td>\n",
       "    </tr>\n",
       "    <tr>\n",
       "      <td>2019-08-30 15:59:16.893710113</td>\n",
       "      <td>225.49</td>\n",
       "      <td>400</td>\n",
       "      <td>389</td>\n",
       "      <td>p</td>\n",
       "    </tr>\n",
       "    <tr>\n",
       "      <td>2019-08-30 15:59:16.896092015</td>\n",
       "      <td>225.49</td>\n",
       "      <td>200</td>\n",
       "      <td>389</td>\n",
       "      <td>p</td>\n",
       "    </tr>\n",
       "    <tr>\n",
       "      <td>2019-08-30 15:59:16.896097887</td>\n",
       "      <td>225.49</td>\n",
       "      <td>24</td>\n",
       "      <td>389</td>\n",
       "      <td>p</td>\n",
       "    </tr>\n",
       "    <tr>\n",
       "      <td>2019-08-30 15:59:16.896654374</td>\n",
       "      <td>225.49</td>\n",
       "      <td>4</td>\n",
       "      <td>389</td>\n",
       "      <td>p</td>\n",
       "    </tr>\n",
       "    <tr>\n",
       "      <td>2019-08-30 15:59:16.897127718</td>\n",
       "      <td>225.49</td>\n",
       "      <td>100</td>\n",
       "      <td>389</td>\n",
       "      <td>p</td>\n",
       "    </tr>\n",
       "  </tbody>\n",
       "</table>\n",
       "<p>4302 rows × 4 columns</p>\n",
       "</div>"
      ],
      "text/plain": [
       "                                price shares  bar trade_type\n",
       "2019-08-30 09:31:08.619711131   228.7     55    1          p\n",
       "2019-08-30 09:31:08.876675496  228.75    127    1          p\n",
       "2019-08-30 09:31:08.876829499  228.75    150    1          p\n",
       "2019-08-30 09:31:08.877184902  228.75     20    1          p\n",
       "2019-08-30 09:31:08.877191188  228.75     20    1          p\n",
       "...                               ...    ...  ...        ...\n",
       "2019-08-30 15:59:16.893710113  225.49    400  389          p\n",
       "2019-08-30 15:59:16.896092015  225.49    200  389          p\n",
       "2019-08-30 15:59:16.896097887  225.49     24  389          p\n",
       "2019-08-30 15:59:16.896654374  225.49      4  389          p\n",
       "2019-08-30 15:59:16.897127718  225.49    100  389          p\n",
       "\n",
       "[4302 rows x 4 columns]"
      ]
     },
     "execution_count": 9,
     "metadata": {},
     "output_type": "execute_result"
    }
   ],
   "source": [
    "data"
   ]
  },
  {
   "cell_type": "code",
   "execution_count": 10,
   "metadata": {},
   "outputs": [
    {
     "data": {
      "text/plain": [
       "<matplotlib.axes._subplots.AxesSubplot at 0x6e144f9208>"
      ]
     },
     "execution_count": 10,
     "metadata": {},
     "output_type": "execute_result"
    },
    {
     "data": {
      "image/png": "[encoded data removed]",
      "text/plain": [
       "<Figure size 432x288 with 1 Axes>"
      ]
     },
     "metadata": {
      "needs_background": "light"
     },
     "output_type": "display_data"
    }
   ],
   "source": [
    "data.price.plot()"
   ]
  },
  {
   "cell_type": "code",
   "execution_count": 11,
   "metadata": {},
   "outputs": [
    {
     "data": {
      "text/plain": [
       "299999.0"
      ]
     },
     "execution_count": 11,
     "metadata": {},
     "output_type": "execute_result"
    }
   ],
   "source": [
    "data['shares'].sum()"
   ]
  },
  {
   "cell_type": "code",
   "execution_count": 12,
   "metadata": {},
   "outputs": [
    {
     "data": {
      "text/plain": [
       "dict_keys(['midpoints', 'fair_values', 'schedule_factors', 'tick_factors', 'trades', 'quote_count', 'day_vwap', 'avg_price'])"
      ]
     },
     "execution_count": 12,
     "metadata": {},
     "output_type": "execute_result"
    }
   ],
   "source": [
    "results.keys()"
   ]
  },
  {
   "cell_type": "code",
   "execution_count": 13,
   "metadata": {},
   "outputs": [
    {
     "data": {
      "text/plain": [
       "227.90490596599633"
      ]
     },
     "execution_count": 13,
     "metadata": {},
     "output_type": "execute_result"
    }
   ],
   "source": [
    "results['day_vwap']"
   ]
  },
  {
   "cell_type": "code",
   "execution_count": 14,
   "metadata": {},
   "outputs": [
    {
     "data": {
      "text/plain": [
       "226.99062726875746"
      ]
     },
     "execution_count": 14,
     "metadata": {},
     "output_type": "execute_result"
    }
   ],
   "source": [
    "results['avg_price']"
   ]
  },
  {
   "cell_type": "code",
   "execution_count": 15,
   "metadata": {},
   "outputs": [
    {
     "data": {
      "text/plain": [
       "0.9142786972388706"
      ]
     },
     "execution_count": 15,
     "metadata": {},
     "output_type": "execute_result"
    }
   ],
   "source": [
    "#slippage vs. vwap\n",
    "results['day_vwap'] - results['avg_price']"
   ]
  },
  {
   "cell_type": "code",
   "execution_count": 16,
   "metadata": {},
   "outputs": [
    {
     "data": {
      "text/html": [
       "<div>\n",
       "<style scoped>\n",
       "    .dataframe tbody tr th:only-of-type {\n",
       "        vertical-align: middle;\n",
       "    }\n",
       "\n",
       "    .dataframe tbody tr th {\n",
       "        vertical-align: top;\n",
       "    }\n",
       "\n",
       "    .dataframe thead th {\n",
       "        text-align: right;\n",
       "    }\n",
       "</style>\n",
       "<table border=\"1\" class=\"dataframe\">\n",
       "  <thead>\n",
       "    <tr style=\"text-align: right;\">\n",
       "      <th></th>\n",
       "      <th>price</th>\n",
       "      <th>shares</th>\n",
       "      <th>bar</th>\n",
       "    </tr>\n",
       "    <tr>\n",
       "      <th>trade_type</th>\n",
       "      <th></th>\n",
       "      <th></th>\n",
       "      <th></th>\n",
       "    </tr>\n",
       "  </thead>\n",
       "  <tbody>\n",
       "    <tr>\n",
       "      <td>p</td>\n",
       "      <td>4302</td>\n",
       "      <td>4302</td>\n",
       "      <td>4302</td>\n",
       "    </tr>\n",
       "  </tbody>\n",
       "</table>\n",
       "</div>"
      ],
      "text/plain": [
       "            price  shares   bar\n",
       "trade_type                     \n",
       "p            4302    4302  4302"
      ]
     },
     "execution_count": 16,
     "metadata": {},
     "output_type": "execute_result"
    }
   ],
   "source": [
    "results['trades'].groupby(['trade_type']).count()"
   ]
  },
  {
   "cell_type": "code",
   "execution_count": 17,
   "metadata": {},
   "outputs": [
    {
     "data": {
      "text/html": [
       "<div>\n",
       "<style scoped>\n",
       "    .dataframe tbody tr th:only-of-type {\n",
       "        vertical-align: middle;\n",
       "    }\n",
       "\n",
       "    .dataframe tbody tr th {\n",
       "        vertical-align: top;\n",
       "    }\n",
       "\n",
       "    .dataframe thead th {\n",
       "        text-align: right;\n",
       "    }\n",
       "</style>\n",
       "<table border=\"1\" class=\"dataframe\">\n",
       "  <thead>\n",
       "    <tr style=\"text-align: right;\">\n",
       "      <th></th>\n",
       "      <th>price</th>\n",
       "      <th>shares</th>\n",
       "      <th>bar</th>\n",
       "      <th>trade_type</th>\n",
       "    </tr>\n",
       "  </thead>\n",
       "  <tbody>\n",
       "    <tr>\n",
       "      <td>2019-08-30 15:59:16.893710113</td>\n",
       "      <td>225.49</td>\n",
       "      <td>400</td>\n",
       "      <td>389</td>\n",
       "      <td>p</td>\n",
       "    </tr>\n",
       "    <tr>\n",
       "      <td>2019-08-30 15:59:16.896092015</td>\n",
       "      <td>225.49</td>\n",
       "      <td>200</td>\n",
       "      <td>389</td>\n",
       "      <td>p</td>\n",
       "    </tr>\n",
       "    <tr>\n",
       "      <td>2019-08-30 15:59:16.896097887</td>\n",
       "      <td>225.49</td>\n",
       "      <td>24</td>\n",
       "      <td>389</td>\n",
       "      <td>p</td>\n",
       "    </tr>\n",
       "    <tr>\n",
       "      <td>2019-08-30 15:59:16.896654374</td>\n",
       "      <td>225.49</td>\n",
       "      <td>4</td>\n",
       "      <td>389</td>\n",
       "      <td>p</td>\n",
       "    </tr>\n",
       "    <tr>\n",
       "      <td>2019-08-30 15:59:16.897127718</td>\n",
       "      <td>225.49</td>\n",
       "      <td>100</td>\n",
       "      <td>389</td>\n",
       "      <td>p</td>\n",
       "    </tr>\n",
       "  </tbody>\n",
       "</table>\n",
       "</div>"
      ],
      "text/plain": [
       "                                price shares  bar trade_type\n",
       "2019-08-30 15:59:16.893710113  225.49    400  389          p\n",
       "2019-08-30 15:59:16.896092015  225.49    200  389          p\n",
       "2019-08-30 15:59:16.896097887  225.49     24  389          p\n",
       "2019-08-30 15:59:16.896654374  225.49      4  389          p\n",
       "2019-08-30 15:59:16.897127718  225.49    100  389          p"
      ]
     },
     "execution_count": 17,
     "metadata": {},
     "output_type": "execute_result"
    }
   ],
   "source": [
    "results['trades'].tail()"
   ]
  },
  {
   "cell_type": "code",
   "execution_count": null,
   "metadata": {},
   "outputs": [],
   "source": []
  }
 ],
 "metadata": {
  "kernelspec": {
   "display_name": "Python 3",
   "language": "python",
   "name": "python3"
  },
  "language_info": {
   "codemirror_mode": {
    "name": "ipython",
    "version": 3
   },
   "file_extension": ".py",
   "mimetype": "text/x-python",
   "name": "python",
   "nbconvert_exporter": "python",
   "pygments_lexer": "ipython3",
   "version": "3.7.4"
  },
  "toc": {
   "base_numbering": 1,
   "nav_menu": {},
   "number_sections": true,
   "sideBar": true,
   "skip_h1_title": false,
   "title_cell": "Table of Contents",
   "title_sidebar": "Contents",
   "toc_cell": false,
   "toc_position": {},
   "toc_section_display": true,
   "toc_window_display": false
  }
 },
 "nbformat": 4,
 "nbformat_minor": 4
}
